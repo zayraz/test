{
 "cells": [
  {
   "cell_type": "markdown",
   "metadata": {},
   "source": [
    "<center>\n",
    "    <img src=\"https://cf-courses-data.s3.us.cloud-object-storage.appdomain.cloud/IBMDeveloperSkillsNetwork-DS0105EN-SkillsNetwork/labs/Module2/images/SN_web_lightmode.png\" width=\"300\" alt=\"cognitiveclass.ai logo\">\n",
    "</center>\n"
   ]
  },
  {
   "cell_type": "markdown",
   "metadata": {},
   "source": [
    "#### Add your code below following the instructions given in the course\n"
   ]
  },
  {
   "cell_type": "markdown",
   "metadata": {},
   "source": [
    "Jupyter_Notebook.ipynb In this notebook Jupyter_Notebook.ipynb, I will explore the essential tools, languages, and libraries that form the foundation of data science. Data science is an interdisciplinary field that combines statistical analysis, machine learning, and data visualization to extract meaningful insights from data. This notebook serves as a comprehensive overview of the data science ecosystem, covering the most popular programming languages, essential libraries, and key tools used by data scientists worldwide."
   ]
  },
  {
   "cell_type": "markdown",
   "metadata": {},
   "source": [
    "Data Science Languages\n",
    "The following are some of the most popular programming languages used in data science:\n",
    "\n",
    "Python - Widely regarded as the most popular language for data science due to its simplicity and extensive library ecosystem\n",
    "R - Specifically designed for statistical computing and graphics, excellent for data analysis and visualization\n",
    "SQL - Essential for database querying and data manipulation in relational databases\n",
    "Java - Used for large-scale data processing and enterprise applications\n",
    "Scala - Popular for big data processing, especially with Apache Spark\n",
    "Julia - Emerging language known for high-performance numerical computing\n",
    "JavaScript - Used for web-based data visualizations and interactive dashboards\n",
    "MATLAB - Traditional language for mathematical computing and engineering applications"
   ]
  },
  {
   "cell_type": "markdown",
   "metadata": {},
   "source": [
    "Data Science Libraries\n",
    "Here are some of the most commonly used libraries in data science:\n",
    "Python Libraries:\n",
    "\n",
    "NumPy - Fundamental library for numerical computing and array operations\n",
    "Pandas - Data manipulation and analysis library, essential for data preprocessing\n",
    "Matplotlib - Primary plotting library for creating static visualizations\n",
    "Seaborn - Statistical data visualization library built on matplotlib\n",
    "Scikit-learn - Machine learning library with algorithms for classification, regression, and clustering\n",
    "TensorFlow - Deep learning framework developed by Google\n",
    "PyTorch - Deep learning framework popular in research communities\n",
    "Keras - High-level neural networks API\n",
    "\n",
    "R Libraries:\n",
    "\n",
    "ggplot2 - Grammar of graphics for creating elegant data visualizations\n",
    "dplyr - Data manipulation and transformation\n",
    "caret - Classification and regression training\n",
    "randomForest - Random forest algorithm implementation"
   ]
  },
  {
   "cell_type": "markdown",
   "metadata": {},
   "source": [
    "Data Science Tools\n",
    "ToolCategoryDescriptionJupyter NotebookDevelopment EnvironmentInteractive computing environment for creating and sharing documentsRStudioDevelopment EnvironmentIntegrated development environment for R programmingApache SparkBig Data ProcessingUnified analytics engine for large-scale data processingTableauData VisualizationBusiness intelligence and data visualization platformPower BIData VisualizationMicrosoft's business analytics solutionApache KafkaData StreamingDistributed streaming platform for real-time data feedsDockerContainerizationPlatform for developing, shipping, and running applicationsGitVersion ControlDistributed version control system for tracking changesMongoDBDatabaseNoSQL document database for flexible data storagePostgreSQLDatabaseAdvanced open-source relational database system\n"
   ]
  },
  {
   "cell_type": "markdown",
   "metadata": {},
   "source": [
    "Arithmetic Expression Examples\n",
    "Below are a few examples of evaluating arithmetic expressions in Python. These examples demonstrate basic mathematical operations that are fundamental in data science calculations, such as statistical computations, data transformations, and algorithm implementations\n"
   ]
  },
  {
   "cell_type": "code",
   "execution_count": 1,
   "metadata": {},
   "outputs": [
    {
     "name": "stdout",
     "output_type": "stream",
     "text": [
      "(3 * 4) + 5 = 17\n"
     ]
    }
   ],
   "source": [
    "# EX 8 This is a simple arithmetic expression to multiply then add integers\n",
    "result = (3 * 4) + 5\n",
    "print(f\"(3 * 4) + 5 = {result}\")"
   ]
  },
  {
   "cell_type": "code",
   "execution_count": null,
   "metadata": {},
   "outputs": [],
   "source": [
    "# Ex 9 This will convert 200 minutes to hours by dividing by 60\n",
    "minutes = 200\n",
    "hours = minutes / 60\n",
    "print(f\"{minutes} minutes is equal to {hours} hours\")"
   ]
  },
  {
   "cell_type": "markdown",
   "metadata": {},
   "source": [
    "Objectives\n",
    "The main objectives of this notebook are to:\n",
    "\n",
    "List popular languages for data science\n",
    "Identify commonly used libraries in data science\n",
    "Provide an overview of essential data science tools\n",
    "Demonstrate basic arithmetic operations in Python\n",
    "Show practical examples of data manipulation and conversion\n",
    "Create a comprehensive reference guide for data science beginners\n",
    "Showcase the capabilities of Jupyter notebooks for documentation and code execution"
   ]
  },
  {
   "cell_type": "markdown",
   "metadata": {},
   "source": [
    "Exercise 11: Author\n",
    "Author\n",
    "Ari"
   ]
  }
 ],
 "metadata": {
  "kernelspec": {
   "display_name": "Python 3 (ipykernel)",
   "language": "python",
   "name": "python3"
  },
  "language_info": {
   "codemirror_mode": {
    "name": "ipython",
    "version": 3
   },
   "file_extension": ".py",
   "mimetype": "text/x-python",
   "name": "python",
   "nbconvert_exporter": "python",
   "pygments_lexer": "ipython3",
   "version": "3.12.8"
  }
 },
 "nbformat": 4,
 "nbformat_minor": 4
}
